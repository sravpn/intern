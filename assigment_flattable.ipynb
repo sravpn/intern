{
 "cells": [
  {
   "cell_type": "code",
   "execution_count": 1,
   "id": "e6b6ccf7-39c9-4042-83ae-f50390bf40a0",
   "metadata": {},
   "outputs": [
    {
     "ename": "ModuleNotFoundError",
     "evalue": "No module named 'pandas'",
     "output_type": "error",
     "traceback": [
      "\u001b[1;31m---------------------------------------------------------------------------\u001b[0m",
      "\u001b[1;31mModuleNotFoundError\u001b[0m                       Traceback (most recent call last)",
      "Cell \u001b[1;32mIn[1], line 1\u001b[0m\n\u001b[1;32m----> 1\u001b[0m \u001b[38;5;28;01mimport\u001b[39;00m \u001b[38;5;21;01mpandas\u001b[39;00m \u001b[38;5;28;01mas\u001b[39;00m \u001b[38;5;21;01mpd\u001b[39;00m\n",
      "\u001b[1;31mModuleNotFoundError\u001b[0m: No module named 'pandas'"
     ]
    }
   ],
   "source": [
    "import pandas as pd"
   ]
  },
  {
   "cell_type": "code",
   "execution_count": 1,
   "id": "faa2b610-52fd-453c-9c1a-e87fe54d080a",
   "metadata": {},
   "outputs": [
    {
     "name": "stdout",
     "output_type": "stream",
     "text": [
      "Note: you may need to restart the kernel to use updated packages.\n"
     ]
    },
    {
     "name": "stderr",
     "output_type": "stream",
     "text": [
      "'grep' is not recognized as an internal or external command,\n",
      "operable program or batch file.\n"
     ]
    }
   ],
   "source": [
    "pip list | grep pandas\n"
   ]
  },
  {
   "cell_type": "code",
   "execution_count": 2,
   "id": "27af44f2-6a35-4863-924c-ffadd84e3242",
   "metadata": {},
   "outputs": [
    {
     "name": "stdout",
     "output_type": "stream",
     "text": [
      "Package                   Version\n",
      "------------------------- --------------\n",
      "anyio                     4.4.0\n",
      "argon2-cffi               23.1.0\n",
      "argon2-cffi-bindings      21.2.0\n",
      "arrow                     1.3.0\n",
      "asttokens                 2.0.5\n",
      "async-lru                 2.0.4\n",
      "attrs                     23.2.0\n",
      "Babel                     2.15.0\n",
      "beautifulsoup4            4.12.3\n",
      "bleach                    6.1.0\n",
      "certifi                   2024.6.2\n",
      "cffi                      1.16.0\n",
      "charset-normalizer        3.3.2\n",
      "colorama                  0.4.6\n",
      "comm                      0.2.1\n",
      "debugpy                   1.6.7\n",
      "decorator                 5.1.1\n",
      "defusedxml                0.7.1\n",
      "exceptiongroup            1.2.0\n",
      "executing                 0.8.3\n",
      "fastjsonschema            2.20.0\n",
      "fqdn                      1.5.1\n",
      "h11                       0.14.0\n",
      "httpcore                  1.0.5\n",
      "httpx                     0.27.0\n",
      "idna                      3.7\n",
      "ipykernel                 6.28.0\n",
      "ipython                   8.25.0\n",
      "isoduration               20.11.0\n",
      "jedi                      0.18.1\n",
      "Jinja2                    3.1.4\n",
      "json5                     0.9.25\n",
      "jsonpointer               3.0.0\n",
      "jsonschema                4.22.0\n",
      "jsonschema-specifications 2023.12.1\n",
      "jupyter_client            8.6.0\n",
      "jupyter_core              5.7.2\n",
      "jupyter-events            0.10.0\n",
      "jupyter-lsp               2.2.5\n",
      "jupyter_server            2.14.1\n",
      "jupyter_server_terminals  0.5.3\n",
      "jupyterlab                4.2.3\n",
      "jupyterlab_pygments       0.3.0\n",
      "jupyterlab_server         2.27.2\n",
      "MarkupSafe                2.1.5\n",
      "matplotlib-inline         0.1.6\n",
      "mistune                   3.0.2\n",
      "nbclient                  0.10.0\n",
      "nbconvert                 7.16.4\n",
      "nbformat                  5.10.4\n",
      "nest-asyncio              1.6.0\n",
      "notebook                  7.2.1\n",
      "notebook_shim             0.2.4\n",
      "overrides                 7.7.0\n",
      "packaging                 23.2\n",
      "pandocfilters             1.5.1\n",
      "parso                     0.8.3\n",
      "pip                       24.0\n",
      "platformdirs              3.10.0\n",
      "prometheus_client         0.20.0\n",
      "prompt-toolkit            3.0.43\n",
      "psutil                    5.9.0\n",
      "pure-eval                 0.2.2\n",
      "pycparser                 2.22\n",
      "Pygments                  2.15.1\n",
      "python-dateutil           2.9.0.post0\n",
      "python-json-logger        2.0.7\n",
      "pywin32                   305.1\n",
      "pywinpty                  2.0.13\n",
      "PyYAML                    6.0.1\n",
      "pyzmq                     25.1.2\n",
      "referencing               0.35.1\n",
      "requests                  2.32.3\n",
      "rfc3339-validator         0.1.4\n",
      "rfc3986-validator         0.1.1\n",
      "rpds-py                   0.18.1\n",
      "Send2Trash                1.8.3\n",
      "setuptools                69.5.1\n",
      "six                       1.16.0\n",
      "sniffio                   1.3.1\n",
      "soupsieve                 2.5\n",
      "stack-data                0.2.0\n",
      "terminado                 0.18.1\n",
      "tinycss2                  1.3.0\n",
      "tomli                     2.0.1\n",
      "tornado                   6.4.1\n",
      "traitlets                 5.14.3\n",
      "types-python-dateutil     2.9.0.20240316\n",
      "typing_extensions         4.11.0\n",
      "uri-template              1.3.0\n",
      "urllib3                   2.2.2\n",
      "wcwidth                   0.2.5\n",
      "webcolors                 24.6.0\n",
      "webencodings              0.5.1\n",
      "websocket-client          1.8.0\n",
      "wheel                     0.43.0\n",
      "Note: you may need to restart the kernel to use updated packages.\n"
     ]
    }
   ],
   "source": [
    "pip list\n"
   ]
  },
  {
   "cell_type": "code",
   "execution_count": 3,
   "id": "9a0362a8-0400-4436-a5d8-9e6d2886be74",
   "metadata": {},
   "outputs": [
    {
     "name": "stdout",
     "output_type": "stream",
     "text": [
      "Note: you may need to restart the kernel to use updated packages.\n"
     ]
    },
    {
     "name": "stderr",
     "output_type": "stream",
     "text": [
      "WARNING: Package(s) not found: pandas\n"
     ]
    }
   ],
   "source": [
    "pip show pandas\n"
   ]
  },
  {
   "cell_type": "code",
   "execution_count": 4,
   "id": "c19e68bb-ade2-42fa-a992-51008742d197",
   "metadata": {},
   "outputs": [
    {
     "name": "stdout",
     "output_type": "stream",
     "text": [
      "Collecting pandas\n",
      "  Downloading pandas-2.2.2-cp310-cp310-win_amd64.whl.metadata (19 kB)\n",
      "Collecting numpy>=1.22.4 (from pandas)\n",
      "  Downloading numpy-2.0.0-cp310-cp310-win_amd64.whl.metadata (60 kB)\n",
      "     ---------------------------------------- 0.0/60.9 kB ? eta -:--:--\n",
      "     -------------------- ------------------- 30.7/60.9 kB 1.3 MB/s eta 0:00:01\n",
      "     ---------------------------------------- 60.9/60.9 kB 1.1 MB/s eta 0:00:00\n",
      "Requirement already satisfied: python-dateutil>=2.8.2 in c:\\anaconda1\\envs\\internenv\\lib\\site-packages (from pandas) (2.9.0.post0)\n",
      "Collecting pytz>=2020.1 (from pandas)\n",
      "  Downloading pytz-2024.1-py2.py3-none-any.whl.metadata (22 kB)\n",
      "Collecting tzdata>=2022.7 (from pandas)\n",
      "  Downloading tzdata-2024.1-py2.py3-none-any.whl.metadata (1.4 kB)\n",
      "Requirement already satisfied: six>=1.5 in c:\\anaconda1\\envs\\internenv\\lib\\site-packages (from python-dateutil>=2.8.2->pandas) (1.16.0)\n",
      "Downloading pandas-2.2.2-cp310-cp310-win_amd64.whl (11.6 MB)\n",
      "   ---------------------------------------- 0.0/11.6 MB ? eta -:--:--\n",
      "    --------------------------------------- 0.2/11.6 MB 5.1 MB/s eta 0:00:03\n",
      "   --- ------------------------------------ 0.9/11.6 MB 9.9 MB/s eta 0:00:02\n",
      "   ------- -------------------------------- 2.1/11.6 MB 14.9 MB/s eta 0:00:01\n",
      "   ----------- ---------------------------- 3.4/11.6 MB 18.0 MB/s eta 0:00:01\n",
      "   --------------- ------------------------ 4.5/11.6 MB 19.2 MB/s eta 0:00:01\n",
      "   --------------------- ------------------ 6.3/11.6 MB 22.5 MB/s eta 0:00:01\n",
      "   ------------------------- -------------- 7.4/11.6 MB 22.5 MB/s eta 0:00:01\n",
      "   ------------------------------ --------- 8.9/11.6 MB 24.8 MB/s eta 0:00:01\n",
      "   ----------------------------------- ---- 10.4/11.6 MB 27.3 MB/s eta 0:00:01\n",
      "   ---------------------------------------  11.4/11.6 MB 29.8 MB/s eta 0:00:01\n",
      "   ---------------------------------------- 11.6/11.6 MB 26.2 MB/s eta 0:00:00\n",
      "Downloading numpy-2.0.0-cp310-cp310-win_amd64.whl (16.5 MB)\n",
      "   ---------------------------------------- 0.0/16.5 MB ? eta -:--:--\n",
      "   ---- ----------------------------------- 1.8/16.5 MB 59.1 MB/s eta 0:00:01\n",
      "   ------ --------------------------------- 2.8/16.5 MB 36.1 MB/s eta 0:00:01\n",
      "   ----------- ---------------------------- 4.8/16.5 MB 38.3 MB/s eta 0:00:01\n",
      "   -------------- ------------------------- 6.0/16.5 MB 35.2 MB/s eta 0:00:01\n",
      "   ----------------- ---------------------- 7.4/16.5 MB 36.3 MB/s eta 0:00:01\n",
      "   --------------------- ------------------ 8.7/16.5 MB 33.0 MB/s eta 0:00:01\n",
      "   ------------------------ --------------- 10.0/16.5 MB 33.9 MB/s eta 0:00:01\n",
      "   ---------------------------- ----------- 11.8/16.5 MB 31.2 MB/s eta 0:00:01\n",
      "   ------------------------------- -------- 12.9/16.5 MB 31.2 MB/s eta 0:00:01\n",
      "   ------------------------------------ --- 15.1/16.5 MB 34.4 MB/s eta 0:00:01\n",
      "   ---------------------------------------  16.1/16.5 MB 31.1 MB/s eta 0:00:01\n",
      "   ---------------------------------------- 16.5/16.5 MB 28.5 MB/s eta 0:00:00\n",
      "Downloading pytz-2024.1-py2.py3-none-any.whl (505 kB)\n",
      "   ---------------------------------------- 0.0/505.5 kB ? eta -:--:--\n",
      "   ---------------------------------------- 505.5/505.5 kB ? eta 0:00:00\n",
      "Downloading tzdata-2024.1-py2.py3-none-any.whl (345 kB)\n",
      "   ---------------------------------------- 0.0/345.4 kB ? eta -:--:--\n",
      "   ---------------------------------------- 345.4/345.4 kB ? eta 0:00:00\n",
      "Installing collected packages: pytz, tzdata, numpy, pandas\n",
      "Successfully installed numpy-2.0.0 pandas-2.2.2 pytz-2024.1 tzdata-2024.1\n",
      "Note: you may need to restart the kernel to use updated packages.\n"
     ]
    }
   ],
   "source": [
    "pip install pandas\n"
   ]
  },
  {
   "cell_type": "code",
   "execution_count": 14,
   "id": "680cd475-f210-4084-9250-6bcb86cea121",
   "metadata": {},
   "outputs": [],
   "source": [
    "import pandas as pd"
   ]
  },
  {
   "cell_type": "code",
   "execution_count": 15,
   "id": "26923061-df78-42ec-a292-1cbd5c5eeff1",
   "metadata": {},
   "outputs": [
    {
     "name": "stdout",
     "output_type": "stream",
     "text": [
      "2.2.2\n"
     ]
    }
   ],
   "source": [
    "print(pd.__version__)"
   ]
  },
  {
   "cell_type": "code",
   "execution_count": 16,
   "id": "897cee95-8703-4be5-b200-33451843d823",
   "metadata": {},
   "outputs": [
    {
     "name": "stdout",
     "output_type": "stream",
     "text": [
      "Name: randomuser\n",
      "Version: 1.6\n",
      "Summary: Python class for generating random user data using https://randomuser.me API\n",
      "Home-page: http://connordelacruz.com/python-randomuser/\n",
      "Author: Connor de la Cruz\n",
      "Author-email: connor.c.delacruz@gmail.com\n",
      "License: MIT\n",
      "Location: c:\\anaconda1\\envs\\internenv\\lib\\site-packages\n",
      "Requires: \n",
      "Required-by: \n",
      "Note: you may need to restart the kernel to use updated packages.\n"
     ]
    }
   ],
   "source": [
    "pip show randomuser"
   ]
  },
  {
   "cell_type": "code",
   "execution_count": 17,
   "id": "71af062e-4b30-45eb-8578-9ffe7140ba26",
   "metadata": {},
   "outputs": [
    {
     "name": "stdout",
     "output_type": "stream",
     "text": [
      "Requirement already satisfied: randomuser in c:\\anaconda1\\envs\\internenv\\lib\\site-packages (1.6)\n",
      "Note: you may need to restart the kernel to use updated packages.\n"
     ]
    }
   ],
   "source": [
    "pip install randomuser"
   ]
  },
  {
   "cell_type": "code",
   "execution_count": 18,
   "id": "51833825-f06b-41f5-85eb-a7961b257adf",
   "metadata": {},
   "outputs": [
    {
     "name": "stdout",
     "output_type": "stream",
     "text": [
      "Name: randomuser\n",
      "Version: 1.6\n",
      "Summary: Python class for generating random user data using https://randomuser.me API\n",
      "Home-page: http://connordelacruz.com/python-randomuser/\n",
      "Author: Connor de la Cruz\n",
      "Author-email: connor.c.delacruz@gmail.com\n",
      "License: MIT\n",
      "Location: c:\\anaconda1\\envs\\internenv\\lib\\site-packages\n",
      "Requires: \n",
      "Required-by: \n",
      "Note: you may need to restart the kernel to use updated packages.\n"
     ]
    }
   ],
   "source": [
    "pip show randomuser"
   ]
  },
  {
   "cell_type": "code",
   "execution_count": 19,
   "id": "b1d3b707-8dad-43d6-9596-98f1625c8661",
   "metadata": {},
   "outputs": [],
   "source": [
    "#importing RandomUser library\n",
    "from randomuser import RandomUser"
   ]
  },
  {
   "cell_type": "code",
   "execution_count": 20,
   "id": "8487ad9e-e102-4975-8243-2a484ef1728b",
   "metadata": {},
   "outputs": [
    {
     "name": "stdout",
     "output_type": "stream",
     "text": [
      "Name: requests\n",
      "Version: 2.32.3\n",
      "Summary: Python HTTP for Humans.\n",
      "Home-page: https://requests.readthedocs.io\n",
      "Author: Kenneth Reitz\n",
      "Author-email: me@kennethreitz.org\n",
      "License: Apache-2.0\n",
      "Location: c:\\anaconda1\\envs\\internenv\\lib\\site-packages\n",
      "Requires: certifi, charset-normalizer, idna, urllib3\n",
      "Required-by: jupyterlab_server\n",
      "Note: you may need to restart the kernel to use updated packages.\n"
     ]
    }
   ],
   "source": [
    "pip show requests"
   ]
  },
  {
   "cell_type": "code",
   "execution_count": 28,
   "id": "317d0b78-2147-4d5f-8c4b-575f3071f15a",
   "metadata": {},
   "outputs": [],
   "source": [
    "#creating a random user object r\n",
    "r = RandomUser()"
   ]
  },
  {
   "cell_type": "code",
   "execution_count": 29,
   "id": "509c5e42-6464-40b7-8895-0d63eb7eb4de",
   "metadata": {},
   "outputs": [],
   "source": [
    "hundred_list =r.generate_users(100)"
   ]
  },
  {
   "cell_type": "code",
   "execution_count": 7,
   "id": "da454d71-cc45-4542-aedc-08013aba60eb",
   "metadata": {},
   "outputs": [
    {
     "name": "stdout",
     "output_type": "stream",
     "text": [
      "Note: you may need to restart the kernel to use updated packages.\n"
     ]
    },
    {
     "name": "stderr",
     "output_type": "stream",
     "text": [
      "WARNING: Package(s) not found: uuid\n"
     ]
    }
   ],
   "source": [
    "pip show uuid"
   ]
  },
  {
   "cell_type": "code",
   "execution_count": 31,
   "id": "0f3c89bc-c295-4b12-b800-98de00b8a527",
   "metadata": {},
   "outputs": [],
   "source": [
    "#using get method to get users data \n",
    "user_list = []\n",
    "for user in hundred_list:\n",
    "    user_info = {\n",
    "        'email': user.get_email(),\n",
    "        'first name': user.get_first_name(),\n",
    "        'last name': user.get_last_name(),\n",
    "        'gender': user.get_gender(),\n",
    "        'latitude': user.get_coordinates()['latitude'],\n",
    "        'longitude': user.get_coordinates()['longitude']\n",
    "    }\n",
    "user_list.append(user_info)"
   ]
  },
  {
   "cell_type": "code",
   "execution_count": 32,
   "id": "26672b72-8ecd-43f2-9d23-b5ccb0ff2d87",
   "metadata": {},
   "outputs": [
    {
     "data": {
      "text/plain": [
       "[{'email': 'elizabeth.white@example.com',\n",
       "  'first name': 'Elizabeth',\n",
       "  'last name': 'White',\n",
       "  'gender': 'female',\n",
       "  'latitude': '-29.1881',\n",
       "  'longitude': '-38.0097'}]"
      ]
     },
     "execution_count": 32,
     "metadata": {},
     "output_type": "execute_result"
    }
   ],
   "source": [
    "user_list"
   ]
  },
  {
   "cell_type": "code",
   "execution_count": 33,
   "id": "9a77ecb8-5a36-44d4-9538-3e43e07afcd7",
   "metadata": {},
   "outputs": [
    {
     "data": {
      "text/plain": [
       "<bound method NDFrame.head of                          email first name last name  gender  latitude  \\\n",
       "0  elizabeth.white@example.com  Elizabeth     White  female  -29.1881   \n",
       "\n",
       "  longitude  \n",
       "0  -38.0097  >"
      ]
     },
     "execution_count": 33,
     "metadata": {},
     "output_type": "execute_result"
    }
   ],
   "source": [
    "df1 = pd.DataFrame(user_list)\n",
    "df1.head"
   ]
  },
  {
   "cell_type": "code",
   "execution_count": 1,
   "id": "85062862-49e7-4e4b-8bf7-5465d87aa267",
   "metadata": {},
   "outputs": [
    {
     "name": "stdout",
     "output_type": "stream",
     "text": [
      "Note: you may need to restart the kernel to use updated packages.\n"
     ]
    },
    {
     "name": "stderr",
     "output_type": "stream",
     "text": [
      "WARNING: Package(s) not found: uuid\n"
     ]
    }
   ],
   "source": [
    "pip show uuid"
   ]
  },
  {
   "cell_type": "code",
   "execution_count": 2,
   "id": "5dab43ba-dd31-4588-adee-79784aa977ec",
   "metadata": {},
   "outputs": [
    {
     "name": "stdout",
     "output_type": "stream",
     "text": [
      "Collecting uuid\n",
      "  Downloading uuid-1.30.tar.gz (5.8 kB)\n",
      "  Preparing metadata (setup.py): started\n",
      "  Preparing metadata (setup.py): finished with status 'done'\n",
      "Building wheels for collected packages: uuid\n",
      "  Building wheel for uuid (setup.py): started\n",
      "  Building wheel for uuid (setup.py): finished with status 'done'\n",
      "  Created wheel for uuid: filename=uuid-1.30-py3-none-any.whl size=6486 sha256=99b352ab99950e15cbdd4763a8683343f8fa9fe3bb81a79fcebf5e261a67d4ea\n",
      "  Stored in directory: c:\\users\\sskjg\\appdata\\local\\pip\\cache\\wheels\\ed\\08\\9e\\f0a977dfe55051a07e21af89200125d65f1efa60cbac61ed88\n",
      "Successfully built uuid\n",
      "Installing collected packages: uuid\n",
      "Successfully installed uuid-1.30\n",
      "Note: you may need to restart the kernel to use updated packages.\n"
     ]
    }
   ],
   "source": [
    "pip install uuid"
   ]
  },
  {
   "cell_type": "code",
   "execution_count": 3,
   "id": "d1c9b600-7196-4c4f-afa2-5dde3c0661e8",
   "metadata": {},
   "outputs": [
    {
     "name": "stdout",
     "output_type": "stream",
     "text": [
      "Note: you may need to restart the kernel to use updated packages.\n"
     ]
    },
    {
     "name": "stderr",
     "output_type": "stream",
     "text": [
      "WARNING: Package(s) not found: datetime\n"
     ]
    }
   ],
   "source": [
    "pip show datetime"
   ]
  },
  {
   "cell_type": "code",
   "execution_count": 4,
   "id": "c4d62998-718e-46b3-81a4-cc218658aa90",
   "metadata": {},
   "outputs": [
    {
     "name": "stdout",
     "output_type": "stream",
     "text": [
      "Collecting datetime\n",
      "  Downloading DateTime-5.5-py3-none-any.whl.metadata (33 kB)\n",
      "Collecting zope.interface (from datetime)\n",
      "  Downloading zope.interface-6.4.post2-cp310-cp310-win_amd64.whl.metadata (44 kB)\n",
      "     ---------------------------------------- 0.0/44.1 kB ? eta -:--:--\n",
      "     ---------------------------------------- 44.1/44.1 kB 2.3 MB/s eta 0:00:00\n",
      "Requirement already satisfied: pytz in c:\\anaconda1\\envs\\internenv\\lib\\site-packages (from datetime) (2024.1)\n",
      "Requirement already satisfied: setuptools in c:\\anaconda1\\envs\\internenv\\lib\\site-packages (from zope.interface->datetime) (69.5.1)\n",
      "Downloading DateTime-5.5-py3-none-any.whl (52 kB)\n",
      "   ---------------------------------------- 0.0/52.6 kB ? eta -:--:--\n",
      "   ---------------------------------------- 52.6/52.6 kB ? eta 0:00:00\n",
      "Downloading zope.interface-6.4.post2-cp310-cp310-win_amd64.whl (206 kB)\n",
      "   ---------------------------------------- 0.0/206.4 kB ? eta -:--:--\n",
      "   ---------------------------------------- 206.4/206.4 kB 6.3 MB/s eta 0:00:00\n",
      "Installing collected packages: zope.interface, datetime\n",
      "Successfully installed datetime-5.5 zope.interface-6.4.post2\n",
      "Note: you may need to restart the kernel to use updated packages.\n"
     ]
    }
   ],
   "source": [
    "pip install datetime"
   ]
  },
  {
   "cell_type": "code",
   "execution_count": 12,
   "id": "e21d2491-a2f3-4d74-83a1-d15fbfb92a41",
   "metadata": {},
   "outputs": [],
   "source": [
    "#importing the required libraries \n",
    "import requests\n",
    "import pandas as pd\n",
    "import uuid\n",
    "from datetime import datetime"
   ]
  },
  {
   "cell_type": "code",
   "execution_count": 17,
   "id": "6f074091-545b-4f18-a738-748030d19d60",
   "metadata": {},
   "outputs": [
    {
     "name": "stdout",
     "output_type": "stream",
     "text": [
      "Name: uuid\n",
      "Version: 1.30\n",
      "Summary: UUID object and generation functions\n",
      "Home-page: http://zesty.ca/python/\n",
      "Author: Ka-Ping Yee\n",
      "Author-email: ping@zesty.ca\n",
      "License: \n",
      "Location: c:\\anaconda1\\envs\\internenv\\lib\\site-packages\n",
      "Requires: \n",
      "Required-by: \n"
     ]
    }
   ],
   "source": [
    "#check\n",
    "!pip show uuid"
   ]
  },
  {
   "cell_type": "code",
   "execution_count": 18,
   "id": "d4ce3b01-cb65-447f-a848-111b5d4352b5",
   "metadata": {},
   "outputs": [
    {
     "name": "stdout",
     "output_type": "stream",
     "text": [
      "Name: DateTime\n",
      "Version: 5.5\n",
      "Summary: This package provides a DateTime data type, as known from Zope. Unless you need to communicate with Zope APIs, you're probably better off using Python's built-in datetime module.\n",
      "Home-page: https://github.com/zopefoundation/DateTime\n",
      "Author: Zope Foundation and Contributors\n",
      "Author-email: zope-dev@zope.org\n",
      "License: ZPL 2.1\n",
      "Location: c:\\anaconda1\\envs\\internenv\\lib\\site-packages\n",
      "Requires: pytz, zope.interface\n",
      "Required-by: \n"
     ]
    }
   ],
   "source": [
    "#check\n",
    "!pip show datetime"
   ]
  },
  {
   "cell_type": "code",
   "execution_count": 31,
   "id": "3f6feebc-ab19-4a9b-ab21-8f048daa2958",
   "metadata": {},
   "outputs": [],
   "source": [
    "#Using get to call API:\n",
    "url = \"https://randomuser.me/api/?results=100\"\n",
    "response = requests.get(url)\n",
    "data = response.json()"
   ]
  },
  {
   "cell_type": "code",
   "execution_count": 32,
   "id": "7196b122-296e-4efb-b5a6-f94e6734e1e1",
   "metadata": {},
   "outputs": [],
   "source": [
    "#extracting the list of 100 users from response\n",
    "users100 = data['results']\n",
    "user_list = []\n",
    "for user in users100:\n",
    "    user_info = {\n",
    "        'uid': user['login']['uuid'],\n",
    "        'email': user['email'],\n",
    "        'first name': user['name']['first'],\n",
    "        'last name': user['name']['last'],\n",
    "        'gender': user['gender'],\n",
    "        'latitude': user['location']['coordinates']['latitude'],\n",
    "        'longitude': user['location']['coordinates']['longitude']\n",
    "    }\n",
    "user_list.append(user_info)\n"
   ]
  },
  {
   "cell_type": "code",
   "execution_count": 33,
   "id": "3eacbf69-a39e-41c6-9a89-a6311ab80a33",
   "metadata": {},
   "outputs": [],
   "source": [
    "#creating a dataframe\n",
    "df100 = pd.DataFrame(user_list)"
   ]
  },
  {
   "cell_type": "code",
   "execution_count": 34,
   "id": "0ffca8ff-6c79-4ad8-a1e1-cb1ccf93dc38",
   "metadata": {},
   "outputs": [
    {
     "data": {
      "text/html": [
       "<div>\n",
       "<style scoped>\n",
       "    .dataframe tbody tr th:only-of-type {\n",
       "        vertical-align: middle;\n",
       "    }\n",
       "\n",
       "    .dataframe tbody tr th {\n",
       "        vertical-align: top;\n",
       "    }\n",
       "\n",
       "    .dataframe thead th {\n",
       "        text-align: right;\n",
       "    }\n",
       "</style>\n",
       "<table border=\"1\" class=\"dataframe\">\n",
       "  <thead>\n",
       "    <tr style=\"text-align: right;\">\n",
       "      <th></th>\n",
       "      <th>uid</th>\n",
       "      <th>email</th>\n",
       "      <th>first name</th>\n",
       "      <th>last name</th>\n",
       "      <th>gender</th>\n",
       "      <th>latitude</th>\n",
       "      <th>longitude</th>\n",
       "    </tr>\n",
       "  </thead>\n",
       "  <tbody>\n",
       "    <tr>\n",
       "      <th>0</th>\n",
       "      <td>0758c304-f5c7-4db6-8993-619e7a0f5533</td>\n",
       "      <td>gagan.gatty@example.com</td>\n",
       "      <td>Gagan</td>\n",
       "      <td>Gatty</td>\n",
       "      <td>male</td>\n",
       "      <td>-80.5825</td>\n",
       "      <td>16.4869</td>\n",
       "    </tr>\n",
       "  </tbody>\n",
       "</table>\n",
       "</div>"
      ],
      "text/plain": [
       "                                    uid                    email first name  \\\n",
       "0  0758c304-f5c7-4db6-8993-619e7a0f5533  gagan.gatty@example.com      Gagan   \n",
       "\n",
       "  last name gender  latitude longitude  \n",
       "0     Gatty   male  -80.5825   16.4869  "
      ]
     },
     "execution_count": 34,
     "metadata": {},
     "output_type": "execute_result"
    }
   ],
   "source": [
    "df100.head(10)"
   ]
  },
  {
   "cell_type": "code",
   "execution_count": 3,
   "id": "be622260-4fa0-4cb0-b372-f05eb3b514d1",
   "metadata": {},
   "outputs": [],
   "source": [
    "import requests\n",
    "import pandas as pd "
   ]
  },
  {
   "cell_type": "code",
   "execution_count": 2,
   "id": "f5444ebf-ba6a-41a8-9fb3-6a537669eee3",
   "metadata": {},
   "outputs": [
    {
     "name": "stdout",
     "output_type": "stream",
     "text": [
      "Name: pandas\n",
      "Version: 2.2.2\n",
      "Summary: Powerful data structures for data analysis, time series, and statistics\n",
      "Home-page: https://pandas.pydata.org\n",
      "Author: \n",
      "Author-email: The Pandas Development Team <pandas-dev@python.org>\n",
      "License: BSD 3-Clause License\n",
      "        \n",
      "        Copyright (c) 2008-2011, AQR Capital Management, LLC, Lambda Foundry, Inc. and PyData Development Team\n",
      "        All rights reserved.\n",
      "        \n",
      "        Copyright (c) 2011-2023, Open source contributors.\n",
      "        \n",
      "        Redistribution and use in source and binary forms, with or without\n",
      "        modification, are permitted provided that the following conditions are met:\n",
      "        \n",
      "        * Redistributions of source code must retain the above copyright notice, this\n",
      "          list of conditions and the following disclaimer.\n",
      "        \n",
      "        * Redistributions in binary form must reproduce the above copyright notice,\n",
      "          this list of conditions and the following disclaimer in the documentation\n",
      "          and/or other materials provided with the distribution.\n",
      "        \n",
      "        * Neither the name of the copyright holder nor the names of its\n",
      "          contributors may be used to endorse or promote products derived from\n",
      "          this software without specific prior written permission.\n",
      "        \n",
      "        THIS SOFTWARE IS PROVIDED BY THE COPYRIGHT HOLDERS AND CONTRIBUTORS \"AS IS\"\n",
      "        AND ANY EXPRESS OR IMPLIED WARRANTIES, INCLUDING, BUT NOT LIMITED TO, THE\n",
      "        IMPLIED WARRANTIES OF MERCHANTABILITY AND FITNESS FOR A PARTICULAR PURPOSE ARE\n",
      "        DISCLAIMED. IN NO EVENT SHALL THE COPYRIGHT HOLDER OR CONTRIBUTORS BE LIABLE\n",
      "        FOR ANY DIRECT, INDIRECT, INCIDENTAL, SPECIAL, EXEMPLARY, OR CONSEQUENTIAL\n",
      "        DAMAGES (INCLUDING, BUT NOT LIMITED TO, PROCUREMENT OF SUBSTITUTE GOODS OR\n",
      "        SERVICES; LOSS OF USE, DATA, OR PROFITS; OR BUSINESS INTERRUPTION) HOWEVER\n",
      "        CAUSED AND ON ANY THEORY OF LIABILITY, WHETHER IN CONTRACT, STRICT LIABILITY,\n",
      "        OR TORT (INCLUDING NEGLIGENCE OR OTHERWISE) ARISING IN ANY WAY OUT OF THE USE\n",
      "        OF THIS SOFTWARE, EVEN IF ADVISED OF THE POSSIBILITY OF SUCH DAMAGE.\n",
      "Location: c:\\anaconda1\\envs\\internenv\\lib\\site-packages\n",
      "Requires: numpy, python-dateutil, pytz, tzdata\n",
      "Required-by: \n",
      "Note: you may need to restart the kernel to use updated packages.\n"
     ]
    }
   ],
   "source": [
    "pip show pandas"
   ]
  },
  {
   "cell_type": "code",
   "execution_count": 16,
   "id": "77624e8e-69e7-4430-98bb-0ec60a284cfe",
   "metadata": {},
   "outputs": [],
   "source": [
    "class User:\n",
    "    def __init__(self, user_data):\n",
    "        self.user_data = user_data\n",
    "    \n",
    "    def flatten_dict(self, d=None, parent_key='', sep='_'):\n",
    "        if d is None:\n",
    "            d = self.user_data\n",
    "        items = []\n",
    "        for k, v in d.items():\n",
    "            new_key = f\"{parent_key}{sep}{k}\" if parent_key else k\n",
    "            if isinstance(v, dict):\n",
    "                items.extend(self.flatten_dict(v, new_key, sep=sep).items())\n",
    "            else:\n",
    "                items.append((new_key, v))\n",
    "        return dict(items)\n",
    "    \n",
    "    def to_dict(self):\n",
    "        return self.flatten_dict()"
   ]
  },
  {
   "cell_type": "code",
   "execution_count": 18,
   "id": "7c1c64dd-c15e-42c6-89f4-bf904c8c7d31",
   "metadata": {},
   "outputs": [],
   "source": [
    "def fetch_random_users(num_users=100):\n",
    "    #Fetching data from the Random User API\n",
    "    url = f\"https://randomuser.me/api/?results={num_users}\"\n",
    "    response = requests.get(url)\n",
    "    data = response.json()\n",
    "    users = data['results']\n",
    "    \n",
    "    return users\n",
    "\n",
    "def create_flat_table(users):\n",
    "    #creating user objects\n",
    "    user_objects = [User(user) for user in users]\n",
    "    \n",
    "    #Extract data and create a flat table\n",
    "    user_list = [user.to_dict() for user in user_objects]\n",
    "    \n",
    "    #Convert to a DataFrame\n",
    "    df = pd.DataFrame(user_list)\n",
    "    return df\n",
    "\n",
    "# Fetch 100 random users\n",
    "users = fetch_random_users(100)\n",
    "\n",
    "# Create a flat table\n",
    "df = create_flat_table(users)"
   ]
  },
  {
   "cell_type": "code",
   "execution_count": 19,
   "id": "cceedcdf-6d97-484e-aa8c-57c04c6e21a5",
   "metadata": {},
   "outputs": [
    {
     "data": {
      "text/html": [
       "<div>\n",
       "<style scoped>\n",
       "    .dataframe tbody tr th:only-of-type {\n",
       "        vertical-align: middle;\n",
       "    }\n",
       "\n",
       "    .dataframe tbody tr th {\n",
       "        vertical-align: top;\n",
       "    }\n",
       "\n",
       "    .dataframe thead th {\n",
       "        text-align: right;\n",
       "    }\n",
       "</style>\n",
       "<table border=\"1\" class=\"dataframe\">\n",
       "  <thead>\n",
       "    <tr style=\"text-align: right;\">\n",
       "      <th></th>\n",
       "      <th>gender</th>\n",
       "      <th>name_title</th>\n",
       "      <th>name_first</th>\n",
       "      <th>name_last</th>\n",
       "      <th>location_street_number</th>\n",
       "      <th>location_street_name</th>\n",
       "      <th>location_city</th>\n",
       "      <th>location_state</th>\n",
       "      <th>location_country</th>\n",
       "      <th>location_postcode</th>\n",
       "      <th>...</th>\n",
       "      <th>registered_date</th>\n",
       "      <th>registered_age</th>\n",
       "      <th>phone</th>\n",
       "      <th>cell</th>\n",
       "      <th>id_name</th>\n",
       "      <th>id_value</th>\n",
       "      <th>picture_large</th>\n",
       "      <th>picture_medium</th>\n",
       "      <th>picture_thumbnail</th>\n",
       "      <th>nat</th>\n",
       "    </tr>\n",
       "  </thead>\n",
       "  <tbody>\n",
       "    <tr>\n",
       "      <th>0</th>\n",
       "      <td>female</td>\n",
       "      <td>Miss</td>\n",
       "      <td>Ava</td>\n",
       "      <td>Arnold</td>\n",
       "      <td>4172</td>\n",
       "      <td>Henry Street</td>\n",
       "      <td>Wicklow</td>\n",
       "      <td>Wexford</td>\n",
       "      <td>Ireland</td>\n",
       "      <td>65827</td>\n",
       "      <td>...</td>\n",
       "      <td>2004-04-19T05:50:35.868Z</td>\n",
       "      <td>20</td>\n",
       "      <td>051-757-8211</td>\n",
       "      <td>081-375-4216</td>\n",
       "      <td>PPS</td>\n",
       "      <td>0922506T</td>\n",
       "      <td>https://randomuser.me/api/portraits/women/76.jpg</td>\n",
       "      <td>https://randomuser.me/api/portraits/med/women/...</td>\n",
       "      <td>https://randomuser.me/api/portraits/thumb/wome...</td>\n",
       "      <td>IE</td>\n",
       "    </tr>\n",
       "    <tr>\n",
       "      <th>1</th>\n",
       "      <td>male</td>\n",
       "      <td>Mr</td>\n",
       "      <td>Arnav</td>\n",
       "      <td>Sullad</td>\n",
       "      <td>4502</td>\n",
       "      <td>Santhekatte</td>\n",
       "      <td>Patna</td>\n",
       "      <td>Arunachal Pradesh</td>\n",
       "      <td>India</td>\n",
       "      <td>36248</td>\n",
       "      <td>...</td>\n",
       "      <td>2020-05-26T14:18:43.673Z</td>\n",
       "      <td>4</td>\n",
       "      <td>7444594593</td>\n",
       "      <td>9502064208</td>\n",
       "      <td>UIDAI</td>\n",
       "      <td>178893937571</td>\n",
       "      <td>https://randomuser.me/api/portraits/men/4.jpg</td>\n",
       "      <td>https://randomuser.me/api/portraits/med/men/4.jpg</td>\n",
       "      <td>https://randomuser.me/api/portraits/thumb/men/...</td>\n",
       "      <td>IN</td>\n",
       "    </tr>\n",
       "    <tr>\n",
       "      <th>2</th>\n",
       "      <td>female</td>\n",
       "      <td>Miss</td>\n",
       "      <td>Denise</td>\n",
       "      <td>Wallace</td>\n",
       "      <td>7374</td>\n",
       "      <td>Valley View Ln</td>\n",
       "      <td>Townsville</td>\n",
       "      <td>Queensland</td>\n",
       "      <td>Australia</td>\n",
       "      <td>8716</td>\n",
       "      <td>...</td>\n",
       "      <td>2018-03-28T06:23:31.540Z</td>\n",
       "      <td>6</td>\n",
       "      <td>02-0374-9545</td>\n",
       "      <td>0467-816-811</td>\n",
       "      <td>TFN</td>\n",
       "      <td>251460067</td>\n",
       "      <td>https://randomuser.me/api/portraits/women/14.jpg</td>\n",
       "      <td>https://randomuser.me/api/portraits/med/women/...</td>\n",
       "      <td>https://randomuser.me/api/portraits/thumb/wome...</td>\n",
       "      <td>AU</td>\n",
       "    </tr>\n",
       "    <tr>\n",
       "      <th>3</th>\n",
       "      <td>male</td>\n",
       "      <td>Mr</td>\n",
       "      <td>Philip</td>\n",
       "      <td>Christensen</td>\n",
       "      <td>183</td>\n",
       "      <td>Assensvej</td>\n",
       "      <td>Hornbæk</td>\n",
       "      <td>Midtjylland</td>\n",
       "      <td>Denmark</td>\n",
       "      <td>71100</td>\n",
       "      <td>...</td>\n",
       "      <td>2020-08-07T10:18:28.822Z</td>\n",
       "      <td>3</td>\n",
       "      <td>61179059</td>\n",
       "      <td>31597772</td>\n",
       "      <td>CPR</td>\n",
       "      <td>101072-5366</td>\n",
       "      <td>https://randomuser.me/api/portraits/men/19.jpg</td>\n",
       "      <td>https://randomuser.me/api/portraits/med/men/19...</td>\n",
       "      <td>https://randomuser.me/api/portraits/thumb/men/...</td>\n",
       "      <td>DK</td>\n",
       "    </tr>\n",
       "    <tr>\n",
       "      <th>4</th>\n",
       "      <td>female</td>\n",
       "      <td>Miss</td>\n",
       "      <td>Kripa</td>\n",
       "      <td>Sullad</td>\n",
       "      <td>8931</td>\n",
       "      <td>College St</td>\n",
       "      <td>Kalyan-Dombivli</td>\n",
       "      <td>Punjab</td>\n",
       "      <td>India</td>\n",
       "      <td>77229</td>\n",
       "      <td>...</td>\n",
       "      <td>2004-05-03T04:25:25.784Z</td>\n",
       "      <td>20</td>\n",
       "      <td>8908214818</td>\n",
       "      <td>8168755535</td>\n",
       "      <td>UIDAI</td>\n",
       "      <td>875878380157</td>\n",
       "      <td>https://randomuser.me/api/portraits/women/40.jpg</td>\n",
       "      <td>https://randomuser.me/api/portraits/med/women/...</td>\n",
       "      <td>https://randomuser.me/api/portraits/thumb/wome...</td>\n",
       "      <td>IN</td>\n",
       "    </tr>\n",
       "    <tr>\n",
       "      <th>5</th>\n",
       "      <td>female</td>\n",
       "      <td>Ms</td>\n",
       "      <td>Romkje</td>\n",
       "      <td>Wolting</td>\n",
       "      <td>193</td>\n",
       "      <td>Beetslaan</td>\n",
       "      <td>Warmond</td>\n",
       "      <td>Utrecht</td>\n",
       "      <td>Netherlands</td>\n",
       "      <td>8702 VK</td>\n",
       "      <td>...</td>\n",
       "      <td>2011-09-23T16:35:15.673Z</td>\n",
       "      <td>12</td>\n",
       "      <td>(063) 0290244</td>\n",
       "      <td>(06) 91521274</td>\n",
       "      <td>BSN</td>\n",
       "      <td>10269689</td>\n",
       "      <td>https://randomuser.me/api/portraits/women/74.jpg</td>\n",
       "      <td>https://randomuser.me/api/portraits/med/women/...</td>\n",
       "      <td>https://randomuser.me/api/portraits/thumb/wome...</td>\n",
       "      <td>NL</td>\n",
       "    </tr>\n",
       "    <tr>\n",
       "      <th>6</th>\n",
       "      <td>female</td>\n",
       "      <td>Mrs</td>\n",
       "      <td>Laura</td>\n",
       "      <td>Pedraza</td>\n",
       "      <td>2254</td>\n",
       "      <td>Viaducto Turkmenistán</td>\n",
       "      <td>Colonia Madero</td>\n",
       "      <td>Aguascalientes</td>\n",
       "      <td>Mexico</td>\n",
       "      <td>26728</td>\n",
       "      <td>...</td>\n",
       "      <td>2008-01-25T04:21:17.635Z</td>\n",
       "      <td>16</td>\n",
       "      <td>(619) 862 4963</td>\n",
       "      <td>(620) 929 9723</td>\n",
       "      <td>NSS</td>\n",
       "      <td>49 20 37 8591 7</td>\n",
       "      <td>https://randomuser.me/api/portraits/women/72.jpg</td>\n",
       "      <td>https://randomuser.me/api/portraits/med/women/...</td>\n",
       "      <td>https://randomuser.me/api/portraits/thumb/wome...</td>\n",
       "      <td>MX</td>\n",
       "    </tr>\n",
       "    <tr>\n",
       "      <th>7</th>\n",
       "      <td>female</td>\n",
       "      <td>Ms</td>\n",
       "      <td>Pava</td>\n",
       "      <td>Boboshko</td>\n",
       "      <td>5488</td>\n",
       "      <td>Kovelskiy provulok</td>\n",
       "      <td>Balakliya</td>\n",
       "      <td>Hmelnicka</td>\n",
       "      <td>Ukraine</td>\n",
       "      <td>99920</td>\n",
       "      <td>...</td>\n",
       "      <td>2010-08-20T08:53:10.379Z</td>\n",
       "      <td>13</td>\n",
       "      <td>(068) F38-1388</td>\n",
       "      <td>(096) I54-9991</td>\n",
       "      <td></td>\n",
       "      <td>None</td>\n",
       "      <td>https://randomuser.me/api/portraits/women/46.jpg</td>\n",
       "      <td>https://randomuser.me/api/portraits/med/women/...</td>\n",
       "      <td>https://randomuser.me/api/portraits/thumb/wome...</td>\n",
       "      <td>UA</td>\n",
       "    </tr>\n",
       "    <tr>\n",
       "      <th>8</th>\n",
       "      <td>male</td>\n",
       "      <td>Mr</td>\n",
       "      <td>Attila</td>\n",
       "      <td>Schöpf</td>\n",
       "      <td>3610</td>\n",
       "      <td>Kiefernweg</td>\n",
       "      <td>Michelstadt</td>\n",
       "      <td>Sachsen</td>\n",
       "      <td>Germany</td>\n",
       "      <td>53567</td>\n",
       "      <td>...</td>\n",
       "      <td>2012-04-22T17:54:13.267Z</td>\n",
       "      <td>12</td>\n",
       "      <td>0392-1593013</td>\n",
       "      <td>0177-2835819</td>\n",
       "      <td>SVNR</td>\n",
       "      <td>63 201149 S 387</td>\n",
       "      <td>https://randomuser.me/api/portraits/men/51.jpg</td>\n",
       "      <td>https://randomuser.me/api/portraits/med/men/51...</td>\n",
       "      <td>https://randomuser.me/api/portraits/thumb/men/...</td>\n",
       "      <td>DE</td>\n",
       "    </tr>\n",
       "    <tr>\n",
       "      <th>9</th>\n",
       "      <td>female</td>\n",
       "      <td>Miss</td>\n",
       "      <td>Zoneide</td>\n",
       "      <td>da Mata</td>\n",
       "      <td>413</td>\n",
       "      <td>Rua Paraná</td>\n",
       "      <td>Campo Largo</td>\n",
       "      <td>Amapá</td>\n",
       "      <td>Brazil</td>\n",
       "      <td>10786</td>\n",
       "      <td>...</td>\n",
       "      <td>2020-09-28T03:54:57.719Z</td>\n",
       "      <td>3</td>\n",
       "      <td>(05) 0541-7829</td>\n",
       "      <td>(38) 3701-2545</td>\n",
       "      <td>CPF</td>\n",
       "      <td>687.923.153-62</td>\n",
       "      <td>https://randomuser.me/api/portraits/women/91.jpg</td>\n",
       "      <td>https://randomuser.me/api/portraits/med/women/...</td>\n",
       "      <td>https://randomuser.me/api/portraits/thumb/wome...</td>\n",
       "      <td>BR</td>\n",
       "    </tr>\n",
       "  </tbody>\n",
       "</table>\n",
       "<p>10 rows × 34 columns</p>\n",
       "</div>"
      ],
      "text/plain": [
       "   gender name_title name_first    name_last  location_street_number  \\\n",
       "0  female       Miss        Ava       Arnold                    4172   \n",
       "1    male         Mr      Arnav       Sullad                    4502   \n",
       "2  female       Miss     Denise      Wallace                    7374   \n",
       "3    male         Mr     Philip  Christensen                     183   \n",
       "4  female       Miss      Kripa       Sullad                    8931   \n",
       "5  female         Ms     Romkje      Wolting                     193   \n",
       "6  female        Mrs      Laura      Pedraza                    2254   \n",
       "7  female         Ms       Pava     Boboshko                    5488   \n",
       "8    male         Mr     Attila       Schöpf                    3610   \n",
       "9  female       Miss    Zoneide      da Mata                     413   \n",
       "\n",
       "    location_street_name    location_city     location_state location_country  \\\n",
       "0           Henry Street          Wicklow            Wexford          Ireland   \n",
       "1            Santhekatte            Patna  Arunachal Pradesh            India   \n",
       "2         Valley View Ln       Townsville         Queensland        Australia   \n",
       "3              Assensvej          Hornbæk        Midtjylland          Denmark   \n",
       "4             College St  Kalyan-Dombivli             Punjab            India   \n",
       "5              Beetslaan          Warmond            Utrecht      Netherlands   \n",
       "6  Viaducto Turkmenistán   Colonia Madero     Aguascalientes           Mexico   \n",
       "7     Kovelskiy provulok        Balakliya          Hmelnicka          Ukraine   \n",
       "8             Kiefernweg      Michelstadt            Sachsen          Germany   \n",
       "9            Rua Paraná       Campo Largo              Amapá           Brazil   \n",
       "\n",
       "  location_postcode  ...           registered_date registered_age  \\\n",
       "0             65827  ...  2004-04-19T05:50:35.868Z             20   \n",
       "1             36248  ...  2020-05-26T14:18:43.673Z              4   \n",
       "2              8716  ...  2018-03-28T06:23:31.540Z              6   \n",
       "3             71100  ...  2020-08-07T10:18:28.822Z              3   \n",
       "4             77229  ...  2004-05-03T04:25:25.784Z             20   \n",
       "5           8702 VK  ...  2011-09-23T16:35:15.673Z             12   \n",
       "6             26728  ...  2008-01-25T04:21:17.635Z             16   \n",
       "7             99920  ...  2010-08-20T08:53:10.379Z             13   \n",
       "8             53567  ...  2012-04-22T17:54:13.267Z             12   \n",
       "9             10786  ...  2020-09-28T03:54:57.719Z              3   \n",
       "\n",
       "            phone            cell id_name         id_value  \\\n",
       "0    051-757-8211    081-375-4216     PPS         0922506T   \n",
       "1      7444594593      9502064208   UIDAI     178893937571   \n",
       "2    02-0374-9545    0467-816-811     TFN        251460067   \n",
       "3        61179059        31597772     CPR      101072-5366   \n",
       "4      8908214818      8168755535   UIDAI     875878380157   \n",
       "5   (063) 0290244   (06) 91521274     BSN         10269689   \n",
       "6  (619) 862 4963  (620) 929 9723     NSS  49 20 37 8591 7   \n",
       "7  (068) F38-1388  (096) I54-9991                     None   \n",
       "8    0392-1593013    0177-2835819    SVNR  63 201149 S 387   \n",
       "9  (05) 0541-7829  (38) 3701-2545     CPF   687.923.153-62   \n",
       "\n",
       "                                      picture_large  \\\n",
       "0  https://randomuser.me/api/portraits/women/76.jpg   \n",
       "1     https://randomuser.me/api/portraits/men/4.jpg   \n",
       "2  https://randomuser.me/api/portraits/women/14.jpg   \n",
       "3    https://randomuser.me/api/portraits/men/19.jpg   \n",
       "4  https://randomuser.me/api/portraits/women/40.jpg   \n",
       "5  https://randomuser.me/api/portraits/women/74.jpg   \n",
       "6  https://randomuser.me/api/portraits/women/72.jpg   \n",
       "7  https://randomuser.me/api/portraits/women/46.jpg   \n",
       "8    https://randomuser.me/api/portraits/men/51.jpg   \n",
       "9  https://randomuser.me/api/portraits/women/91.jpg   \n",
       "\n",
       "                                      picture_medium  \\\n",
       "0  https://randomuser.me/api/portraits/med/women/...   \n",
       "1  https://randomuser.me/api/portraits/med/men/4.jpg   \n",
       "2  https://randomuser.me/api/portraits/med/women/...   \n",
       "3  https://randomuser.me/api/portraits/med/men/19...   \n",
       "4  https://randomuser.me/api/portraits/med/women/...   \n",
       "5  https://randomuser.me/api/portraits/med/women/...   \n",
       "6  https://randomuser.me/api/portraits/med/women/...   \n",
       "7  https://randomuser.me/api/portraits/med/women/...   \n",
       "8  https://randomuser.me/api/portraits/med/men/51...   \n",
       "9  https://randomuser.me/api/portraits/med/women/...   \n",
       "\n",
       "                                   picture_thumbnail nat  \n",
       "0  https://randomuser.me/api/portraits/thumb/wome...  IE  \n",
       "1  https://randomuser.me/api/portraits/thumb/men/...  IN  \n",
       "2  https://randomuser.me/api/portraits/thumb/wome...  AU  \n",
       "3  https://randomuser.me/api/portraits/thumb/men/...  DK  \n",
       "4  https://randomuser.me/api/portraits/thumb/wome...  IN  \n",
       "5  https://randomuser.me/api/portraits/thumb/wome...  NL  \n",
       "6  https://randomuser.me/api/portraits/thumb/wome...  MX  \n",
       "7  https://randomuser.me/api/portraits/thumb/wome...  UA  \n",
       "8  https://randomuser.me/api/portraits/thumb/men/...  DE  \n",
       "9  https://randomuser.me/api/portraits/thumb/wome...  BR  \n",
       "\n",
       "[10 rows x 34 columns]"
      ]
     },
     "execution_count": 19,
     "metadata": {},
     "output_type": "execute_result"
    }
   ],
   "source": [
    "df.head(10)"
   ]
  },
  {
   "cell_type": "code",
   "execution_count": null,
   "id": "99a2eb52-28f7-4ae0-b50d-4ac93d6faee0",
   "metadata": {},
   "outputs": [],
   "source": []
  },
  {
   "cell_type": "code",
   "execution_count": null,
   "id": "f9e8c812-121c-48ca-97cf-f582e70b04e0",
   "metadata": {},
   "outputs": [],
   "source": []
  }
 ],
 "metadata": {
  "kernelspec": {
   "display_name": "Python 3 (ipykernel)",
   "language": "python",
   "name": "python3"
  },
  "language_info": {
   "codemirror_mode": {
    "name": "ipython",
    "version": 3
   },
   "file_extension": ".py",
   "mimetype": "text/x-python",
   "name": "python",
   "nbconvert_exporter": "python",
   "pygments_lexer": "ipython3",
   "version": "3.10.14"
  }
 },
 "nbformat": 4,
 "nbformat_minor": 5
}
