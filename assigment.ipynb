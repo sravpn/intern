{
 "cells": [
  {
   "cell_type": "markdown",
   "id": "2812dc13-95e4-48b6-aed9-17be76900e75",
   "metadata": {},
   "source": [
    "# First Program\n",
    "This is our first program"
   ]
  },
  {
   "cell_type": "code",
   "execution_count": 1,
   "id": "e6b6ccf7-39c9-4042-83ae-f50390bf40a0",
   "metadata": {},
   "outputs": [
    {
     "ename": "ModuleNotFoundError",
     "evalue": "No module named 'pandas'",
     "output_type": "error",
     "traceback": [
      "\u001b[1;31m---------------------------------------------------------------------------\u001b[0m",
      "\u001b[1;31mModuleNotFoundError\u001b[0m                       Traceback (most recent call last)",
      "Cell \u001b[1;32mIn[1], line 1\u001b[0m\n\u001b[1;32m----> 1\u001b[0m \u001b[38;5;28;01mimport\u001b[39;00m \u001b[38;5;21;01mpandas\u001b[39;00m \u001b[38;5;28;01mas\u001b[39;00m \u001b[38;5;21;01mpd\u001b[39;00m\n",
      "\u001b[1;31mModuleNotFoundError\u001b[0m: No module named 'pandas'"
     ]
    }
   ],
   "source": [
    "import pandas as pd"
   ]
  },
  {
   "cell_type": "code",
   "execution_count": 1,
   "id": "faa2b610-52fd-453c-9c1a-e87fe54d080a",
   "metadata": {},
   "outputs": [
    {
     "name": "stdout",
     "output_type": "stream",
     "text": [
      "Note: you may need to restart the kernel to use updated packages.\n"
     ]
    },
    {
     "name": "stderr",
     "output_type": "stream",
     "text": [
      "'grep' is not recognized as an internal or external command,\n",
      "operable program or batch file.\n"
     ]
    }
   ],
   "source": [
    "pip list | grep pandas\n"
   ]
  },
  {
   "cell_type": "code",
   "execution_count": 2,
   "id": "27af44f2-6a35-4863-924c-ffadd84e3242",
   "metadata": {},
   "outputs": [
    {
     "name": "stdout",
     "output_type": "stream",
     "text": [
      "Package                   Version\n",
      "------------------------- --------------\n",
      "anyio                     4.4.0\n",
      "argon2-cffi               23.1.0\n",
      "argon2-cffi-bindings      21.2.0\n",
      "arrow                     1.3.0\n",
      "asttokens                 2.0.5\n",
      "async-lru                 2.0.4\n",
      "attrs                     23.2.0\n",
      "Babel                     2.15.0\n",
      "beautifulsoup4            4.12.3\n",
      "bleach                    6.1.0\n",
      "certifi                   2024.6.2\n",
      "cffi                      1.16.0\n",
      "charset-normalizer        3.3.2\n",
      "colorama                  0.4.6\n",
      "comm                      0.2.1\n",
      "debugpy                   1.6.7\n",
      "decorator                 5.1.1\n",
      "defusedxml                0.7.1\n",
      "exceptiongroup            1.2.0\n",
      "executing                 0.8.3\n",
      "fastjsonschema            2.20.0\n",
      "fqdn                      1.5.1\n",
      "h11                       0.14.0\n",
      "httpcore                  1.0.5\n",
      "httpx                     0.27.0\n",
      "idna                      3.7\n",
      "ipykernel                 6.28.0\n",
      "ipython                   8.25.0\n",
      "isoduration               20.11.0\n",
      "jedi                      0.18.1\n",
      "Jinja2                    3.1.4\n",
      "json5                     0.9.25\n",
      "jsonpointer               3.0.0\n",
      "jsonschema                4.22.0\n",
      "jsonschema-specifications 2023.12.1\n",
      "jupyter_client            8.6.0\n",
      "jupyter_core              5.7.2\n",
      "jupyter-events            0.10.0\n",
      "jupyter-lsp               2.2.5\n",
      "jupyter_server            2.14.1\n",
      "jupyter_server_terminals  0.5.3\n",
      "jupyterlab                4.2.3\n",
      "jupyterlab_pygments       0.3.0\n",
      "jupyterlab_server         2.27.2\n",
      "MarkupSafe                2.1.5\n",
      "matplotlib-inline         0.1.6\n",
      "mistune                   3.0.2\n",
      "nbclient                  0.10.0\n",
      "nbconvert                 7.16.4\n",
      "nbformat                  5.10.4\n",
      "nest-asyncio              1.6.0\n",
      "notebook                  7.2.1\n",
      "notebook_shim             0.2.4\n",
      "overrides                 7.7.0\n",
      "packaging                 23.2\n",
      "pandocfilters             1.5.1\n",
      "parso                     0.8.3\n",
      "pip                       24.0\n",
      "platformdirs              3.10.0\n",
      "prometheus_client         0.20.0\n",
      "prompt-toolkit            3.0.43\n",
      "psutil                    5.9.0\n",
      "pure-eval                 0.2.2\n",
      "pycparser                 2.22\n",
      "Pygments                  2.15.1\n",
      "python-dateutil           2.9.0.post0\n",
      "python-json-logger        2.0.7\n",
      "pywin32                   305.1\n",
      "pywinpty                  2.0.13\n",
      "PyYAML                    6.0.1\n",
      "pyzmq                     25.1.2\n",
      "referencing               0.35.1\n",
      "requests                  2.32.3\n",
      "rfc3339-validator         0.1.4\n",
      "rfc3986-validator         0.1.1\n",
      "rpds-py                   0.18.1\n",
      "Send2Trash                1.8.3\n",
      "setuptools                69.5.1\n",
      "six                       1.16.0\n",
      "sniffio                   1.3.1\n",
      "soupsieve                 2.5\n",
      "stack-data                0.2.0\n",
      "terminado                 0.18.1\n",
      "tinycss2                  1.3.0\n",
      "tomli                     2.0.1\n",
      "tornado                   6.4.1\n",
      "traitlets                 5.14.3\n",
      "types-python-dateutil     2.9.0.20240316\n",
      "typing_extensions         4.11.0\n",
      "uri-template              1.3.0\n",
      "urllib3                   2.2.2\n",
      "wcwidth                   0.2.5\n",
      "webcolors                 24.6.0\n",
      "webencodings              0.5.1\n",
      "websocket-client          1.8.0\n",
      "wheel                     0.43.0\n",
      "Note: you may need to restart the kernel to use updated packages.\n"
     ]
    }
   ],
   "source": [
    "pip list\n"
   ]
  },
  {
   "cell_type": "code",
   "execution_count": 3,
   "id": "9a0362a8-0400-4436-a5d8-9e6d2886be74",
   "metadata": {},
   "outputs": [
    {
     "name": "stdout",
     "output_type": "stream",
     "text": [
      "Note: you may need to restart the kernel to use updated packages.\n"
     ]
    },
    {
     "name": "stderr",
     "output_type": "stream",
     "text": [
      "WARNING: Package(s) not found: pandas\n"
     ]
    }
   ],
   "source": [
    "pip show pandas\n"
   ]
  },
  {
   "cell_type": "code",
   "execution_count": 4,
   "id": "c19e68bb-ade2-42fa-a992-51008742d197",
   "metadata": {},
   "outputs": [
    {
     "name": "stdout",
     "output_type": "stream",
     "text": [
      "Collecting pandas\n",
      "  Downloading pandas-2.2.2-cp310-cp310-win_amd64.whl.metadata (19 kB)\n",
      "Collecting numpy>=1.22.4 (from pandas)\n",
      "  Downloading numpy-2.0.0-cp310-cp310-win_amd64.whl.metadata (60 kB)\n",
      "     ---------------------------------------- 0.0/60.9 kB ? eta -:--:--\n",
      "     -------------------- ------------------- 30.7/60.9 kB 1.3 MB/s eta 0:00:01\n",
      "     ---------------------------------------- 60.9/60.9 kB 1.1 MB/s eta 0:00:00\n",
      "Requirement already satisfied: python-dateutil>=2.8.2 in c:\\anaconda1\\envs\\internenv\\lib\\site-packages (from pandas) (2.9.0.post0)\n",
      "Collecting pytz>=2020.1 (from pandas)\n",
      "  Downloading pytz-2024.1-py2.py3-none-any.whl.metadata (22 kB)\n",
      "Collecting tzdata>=2022.7 (from pandas)\n",
      "  Downloading tzdata-2024.1-py2.py3-none-any.whl.metadata (1.4 kB)\n",
      "Requirement already satisfied: six>=1.5 in c:\\anaconda1\\envs\\internenv\\lib\\site-packages (from python-dateutil>=2.8.2->pandas) (1.16.0)\n",
      "Downloading pandas-2.2.2-cp310-cp310-win_amd64.whl (11.6 MB)\n",
      "   ---------------------------------------- 0.0/11.6 MB ? eta -:--:--\n",
      "    --------------------------------------- 0.2/11.6 MB 5.1 MB/s eta 0:00:03\n",
      "   --- ------------------------------------ 0.9/11.6 MB 9.9 MB/s eta 0:00:02\n",
      "   ------- -------------------------------- 2.1/11.6 MB 14.9 MB/s eta 0:00:01\n",
      "   ----------- ---------------------------- 3.4/11.6 MB 18.0 MB/s eta 0:00:01\n",
      "   --------------- ------------------------ 4.5/11.6 MB 19.2 MB/s eta 0:00:01\n",
      "   --------------------- ------------------ 6.3/11.6 MB 22.5 MB/s eta 0:00:01\n",
      "   ------------------------- -------------- 7.4/11.6 MB 22.5 MB/s eta 0:00:01\n",
      "   ------------------------------ --------- 8.9/11.6 MB 24.8 MB/s eta 0:00:01\n",
      "   ----------------------------------- ---- 10.4/11.6 MB 27.3 MB/s eta 0:00:01\n",
      "   ---------------------------------------  11.4/11.6 MB 29.8 MB/s eta 0:00:01\n",
      "   ---------------------------------------- 11.6/11.6 MB 26.2 MB/s eta 0:00:00\n",
      "Downloading numpy-2.0.0-cp310-cp310-win_amd64.whl (16.5 MB)\n",
      "   ---------------------------------------- 0.0/16.5 MB ? eta -:--:--\n",
      "   ---- ----------------------------------- 1.8/16.5 MB 59.1 MB/s eta 0:00:01\n",
      "   ------ --------------------------------- 2.8/16.5 MB 36.1 MB/s eta 0:00:01\n",
      "   ----------- ---------------------------- 4.8/16.5 MB 38.3 MB/s eta 0:00:01\n",
      "   -------------- ------------------------- 6.0/16.5 MB 35.2 MB/s eta 0:00:01\n",
      "   ----------------- ---------------------- 7.4/16.5 MB 36.3 MB/s eta 0:00:01\n",
      "   --------------------- ------------------ 8.7/16.5 MB 33.0 MB/s eta 0:00:01\n",
      "   ------------------------ --------------- 10.0/16.5 MB 33.9 MB/s eta 0:00:01\n",
      "   ---------------------------- ----------- 11.8/16.5 MB 31.2 MB/s eta 0:00:01\n",
      "   ------------------------------- -------- 12.9/16.5 MB 31.2 MB/s eta 0:00:01\n",
      "   ------------------------------------ --- 15.1/16.5 MB 34.4 MB/s eta 0:00:01\n",
      "   ---------------------------------------  16.1/16.5 MB 31.1 MB/s eta 0:00:01\n",
      "   ---------------------------------------- 16.5/16.5 MB 28.5 MB/s eta 0:00:00\n",
      "Downloading pytz-2024.1-py2.py3-none-any.whl (505 kB)\n",
      "   ---------------------------------------- 0.0/505.5 kB ? eta -:--:--\n",
      "   ---------------------------------------- 505.5/505.5 kB ? eta 0:00:00\n",
      "Downloading tzdata-2024.1-py2.py3-none-any.whl (345 kB)\n",
      "   ---------------------------------------- 0.0/345.4 kB ? eta -:--:--\n",
      "   ---------------------------------------- 345.4/345.4 kB ? eta 0:00:00\n",
      "Installing collected packages: pytz, tzdata, numpy, pandas\n",
      "Successfully installed numpy-2.0.0 pandas-2.2.2 pytz-2024.1 tzdata-2024.1\n",
      "Note: you may need to restart the kernel to use updated packages.\n"
     ]
    }
   ],
   "source": [
    "pip install pandas\n"
   ]
  },
  {
   "cell_type": "code",
   "execution_count": 14,
   "id": "680cd475-f210-4084-9250-6bcb86cea121",
   "metadata": {},
   "outputs": [],
   "source": [
    "import pandas as pd"
   ]
  },
  {
   "cell_type": "code",
   "execution_count": 15,
   "id": "26923061-df78-42ec-a292-1cbd5c5eeff1",
   "metadata": {},
   "outputs": [
    {
     "name": "stdout",
     "output_type": "stream",
     "text": [
      "2.2.2\n"
     ]
    }
   ],
   "source": [
    "print(pd.__version__)"
   ]
  },
  {
   "cell_type": "code",
   "execution_count": 16,
   "id": "897cee95-8703-4be5-b200-33451843d823",
   "metadata": {},
   "outputs": [
    {
     "name": "stdout",
     "output_type": "stream",
     "text": [
      "Name: randomuser\n",
      "Version: 1.6\n",
      "Summary: Python class for generating random user data using https://randomuser.me API\n",
      "Home-page: http://connordelacruz.com/python-randomuser/\n",
      "Author: Connor de la Cruz\n",
      "Author-email: connor.c.delacruz@gmail.com\n",
      "License: MIT\n",
      "Location: c:\\anaconda1\\envs\\internenv\\lib\\site-packages\n",
      "Requires: \n",
      "Required-by: \n",
      "Note: you may need to restart the kernel to use updated packages.\n"
     ]
    }
   ],
   "source": [
    "pip show randomuser"
   ]
  },
  {
   "cell_type": "code",
   "execution_count": 17,
   "id": "71af062e-4b30-45eb-8578-9ffe7140ba26",
   "metadata": {},
   "outputs": [
    {
     "name": "stdout",
     "output_type": "stream",
     "text": [
      "Requirement already satisfied: randomuser in c:\\anaconda1\\envs\\internenv\\lib\\site-packages (1.6)\n",
      "Note: you may need to restart the kernel to use updated packages.\n"
     ]
    }
   ],
   "source": [
    "pip install randomuser"
   ]
  },
  {
   "cell_type": "code",
   "execution_count": 18,
   "id": "51833825-f06b-41f5-85eb-a7961b257adf",
   "metadata": {},
   "outputs": [
    {
     "name": "stdout",
     "output_type": "stream",
     "text": [
      "Name: randomuser\n",
      "Version: 1.6\n",
      "Summary: Python class for generating random user data using https://randomuser.me API\n",
      "Home-page: http://connordelacruz.com/python-randomuser/\n",
      "Author: Connor de la Cruz\n",
      "Author-email: connor.c.delacruz@gmail.com\n",
      "License: MIT\n",
      "Location: c:\\anaconda1\\envs\\internenv\\lib\\site-packages\n",
      "Requires: \n",
      "Required-by: \n",
      "Note: you may need to restart the kernel to use updated packages.\n"
     ]
    }
   ],
   "source": [
    "pip show randomuser"
   ]
  },
  {
   "cell_type": "code",
   "execution_count": 19,
   "id": "b1d3b707-8dad-43d6-9596-98f1625c8661",
   "metadata": {},
   "outputs": [],
   "source": [
    "#importing RandomUser library\n",
    "from randomuser import RandomUser"
   ]
  },
  {
   "cell_type": "code",
   "execution_count": 20,
   "id": "8487ad9e-e102-4975-8243-2a484ef1728b",
   "metadata": {},
   "outputs": [
    {
     "name": "stdout",
     "output_type": "stream",
     "text": [
      "Name: requests\n",
      "Version: 2.32.3\n",
      "Summary: Python HTTP for Humans.\n",
      "Home-page: https://requests.readthedocs.io\n",
      "Author: Kenneth Reitz\n",
      "Author-email: me@kennethreitz.org\n",
      "License: Apache-2.0\n",
      "Location: c:\\anaconda1\\envs\\internenv\\lib\\site-packages\n",
      "Requires: certifi, charset-normalizer, idna, urllib3\n",
      "Required-by: jupyterlab_server\n",
      "Note: you may need to restart the kernel to use updated packages.\n"
     ]
    }
   ],
   "source": [
    "pip show requests"
   ]
  },
  {
   "cell_type": "code",
   "execution_count": 28,
   "id": "317d0b78-2147-4d5f-8c4b-575f3071f15a",
   "metadata": {},
   "outputs": [],
   "source": [
    "#creating a random user object r\n",
    "r = RandomUser()"
   ]
  },
  {
   "cell_type": "code",
   "execution_count": 29,
   "id": "509c5e42-6464-40b7-8895-0d63eb7eb4de",
   "metadata": {},
   "outputs": [],
   "source": [
    "hundred_list =r.generate_users(100)"
   ]
  },
  {
   "cell_type": "code",
   "execution_count": 30,
   "id": "acaa0f27-6b36-40d7-908b-aa4e0e9b1f6d",
   "metadata": {},
   "outputs": [
    {
     "data": {
      "text/plain": [
       "[<randomuser.RandomUser at 0x284e357dd80>,\n",
       " <randomuser.RandomUser at 0x284e482c4f0>,\n",
       " <randomuser.RandomUser at 0x284e482e320>,\n",
       " <randomuser.RandomUser at 0x284e482c130>,\n",
       " <randomuser.RandomUser at 0x284e482e530>,\n",
       " <randomuser.RandomUser at 0x284e482d3c0>,\n",
       " <randomuser.RandomUser at 0x284f408fb80>,\n",
       " <randomuser.RandomUser at 0x284e3629e70>,\n",
       " <randomuser.RandomUser at 0x284f43038b0>,\n",
       " <randomuser.RandomUser at 0x284f4303280>,\n",
       " <randomuser.RandomUser at 0x284f4301660>,\n",
       " <randomuser.RandomUser at 0x284f4303e20>,\n",
       " <randomuser.RandomUser at 0x284f43036d0>,\n",
       " <randomuser.RandomUser at 0x284f4303580>,\n",
       " <randomuser.RandomUser at 0x284f4303a90>,\n",
       " <randomuser.RandomUser at 0x284f4301240>,\n",
       " <randomuser.RandomUser at 0x284f4303d30>,\n",
       " <randomuser.RandomUser at 0x284f4302f20>,\n",
       " <randomuser.RandomUser at 0x284f43035b0>,\n",
       " <randomuser.RandomUser at 0x284f4303640>,\n",
       " <randomuser.RandomUser at 0x284f4302650>,\n",
       " <randomuser.RandomUser at 0x284f4301600>,\n",
       " <randomuser.RandomUser at 0x284f43033a0>,\n",
       " <randomuser.RandomUser at 0x284f43033d0>,\n",
       " <randomuser.RandomUser at 0x284f4303f70>,\n",
       " <randomuser.RandomUser at 0x284f43038e0>,\n",
       " <randomuser.RandomUser at 0x284f4303400>,\n",
       " <randomuser.RandomUser at 0x284f43026e0>,\n",
       " <randomuser.RandomUser at 0x284f4302b00>,\n",
       " <randomuser.RandomUser at 0x284f4302bc0>,\n",
       " <randomuser.RandomUser at 0x284f4303d60>,\n",
       " <randomuser.RandomUser at 0x284f4302b90>,\n",
       " <randomuser.RandomUser at 0x284f4303d90>,\n",
       " <randomuser.RandomUser at 0x284f4303b50>,\n",
       " <randomuser.RandomUser at 0x284f4303b80>,\n",
       " <randomuser.RandomUser at 0x284f43031f0>,\n",
       " <randomuser.RandomUser at 0x284f43027a0>,\n",
       " <randomuser.RandomUser at 0x284f4302ec0>,\n",
       " <randomuser.RandomUser at 0x284f4302bf0>,\n",
       " <randomuser.RandomUser at 0x284f4303f10>,\n",
       " <randomuser.RandomUser at 0x284f4303ee0>,\n",
       " <randomuser.RandomUser at 0x284f4303940>,\n",
       " <randomuser.RandomUser at 0x284f4303340>,\n",
       " <randomuser.RandomUser at 0x284f4302770>,\n",
       " <randomuser.RandomUser at 0x284f4302740>,\n",
       " <randomuser.RandomUser at 0x284f4302710>,\n",
       " <randomuser.RandomUser at 0x284f4303430>,\n",
       " <randomuser.RandomUser at 0x284f4303460>,\n",
       " <randomuser.RandomUser at 0x284f4303490>,\n",
       " <randomuser.RandomUser at 0x284f43034c0>,\n",
       " <randomuser.RandomUser at 0x284f43034f0>,\n",
       " <randomuser.RandomUser at 0x284f4303bb0>,\n",
       " <randomuser.RandomUser at 0x284f4303be0>,\n",
       " <randomuser.RandomUser at 0x284f4303c10>,\n",
       " <randomuser.RandomUser at 0x284f4303fd0>,\n",
       " <randomuser.RandomUser at 0x284f4303c40>,\n",
       " <randomuser.RandomUser at 0x284f43027d0>,\n",
       " <randomuser.RandomUser at 0x284f4302800>,\n",
       " <randomuser.RandomUser at 0x284f4302830>,\n",
       " <randomuser.RandomUser at 0x284f4302860>,\n",
       " <randomuser.RandomUser at 0x284f4302890>,\n",
       " <randomuser.RandomUser at 0x284f43028c0>,\n",
       " <randomuser.RandomUser at 0x284f43028f0>,\n",
       " <randomuser.RandomUser at 0x284f4302920>,\n",
       " <randomuser.RandomUser at 0x284f4302950>,\n",
       " <randomuser.RandomUser at 0x284f4302980>,\n",
       " <randomuser.RandomUser at 0x284f43029b0>,\n",
       " <randomuser.RandomUser at 0x284f4302d40>,\n",
       " <randomuser.RandomUser at 0x284f4302d70>,\n",
       " <randomuser.RandomUser at 0x284f4302da0>,\n",
       " <randomuser.RandomUser at 0x284f43030a0>,\n",
       " <randomuser.RandomUser at 0x284f43035e0>,\n",
       " <randomuser.RandomUser at 0x284f43037c0>,\n",
       " <randomuser.RandomUser at 0x284f43037f0>,\n",
       " <randomuser.RandomUser at 0x284f4303670>,\n",
       " <randomuser.RandomUser at 0x284f4303610>,\n",
       " <randomuser.RandomUser at 0x284f4303070>,\n",
       " <randomuser.RandomUser at 0x284f4302fb0>,\n",
       " <randomuser.RandomUser at 0x284f4303760>,\n",
       " <randomuser.RandomUser at 0x284f43036a0>,\n",
       " <randomuser.RandomUser at 0x284f4302e00>,\n",
       " <randomuser.RandomUser at 0x284f4303790>,\n",
       " <randomuser.RandomUser at 0x284f4302620>,\n",
       " <randomuser.RandomUser at 0x284f43025f0>,\n",
       " <randomuser.RandomUser at 0x284f43025c0>,\n",
       " <randomuser.RandomUser at 0x284f4302590>,\n",
       " <randomuser.RandomUser at 0x284f43014e0>,\n",
       " <randomuser.RandomUser at 0x284f4303910>,\n",
       " <randomuser.RandomUser at 0x284f4303130>,\n",
       " <randomuser.RandomUser at 0x284f4303820>,\n",
       " <randomuser.RandomUser at 0x284f4301510>,\n",
       " <randomuser.RandomUser at 0x284f4303cd0>,\n",
       " <randomuser.RandomUser at 0x284f4303b20>,\n",
       " <randomuser.RandomUser at 0x284f4303c70>,\n",
       " <randomuser.RandomUser at 0x284f4301480>,\n",
       " <randomuser.RandomUser at 0x284f4302ad0>,\n",
       " <randomuser.RandomUser at 0x284f4301570>,\n",
       " <randomuser.RandomUser at 0x284f4303ca0>,\n",
       " <randomuser.RandomUser at 0x284f4302d10>,\n",
       " <randomuser.RandomUser at 0x284f4302ce0>]"
      ]
     },
     "execution_count": 30,
     "metadata": {},
     "output_type": "execute_result"
    }
   ],
   "source": [
    "hundred_list"
   ]
  },
  {
   "cell_type": "code",
   "execution_count": 7,
   "id": "da454d71-cc45-4542-aedc-08013aba60eb",
   "metadata": {},
   "outputs": [
    {
     "name": "stdout",
     "output_type": "stream",
     "text": [
      "Note: you may need to restart the kernel to use updated packages.\n"
     ]
    },
    {
     "name": "stderr",
     "output_type": "stream",
     "text": [
      "WARNING: Package(s) not found: uuid\n"
     ]
    }
   ],
   "source": [
    "pip show uuid"
   ]
  },
  {
   "cell_type": "code",
   "execution_count": 31,
   "id": "0f3c89bc-c295-4b12-b800-98de00b8a527",
   "metadata": {},
   "outputs": [],
   "source": [
    "#using get method to get users data \n",
    "user_list = []\n",
    "for user in hundred_list:\n",
    "    user_info = {\n",
    "        'email': user.get_email(),\n",
    "        'first name': user.get_first_name(),\n",
    "        'last name': user.get_last_name(),\n",
    "        'gender': user.get_gender(),\n",
    "        'latitude': user.get_coordinates()['latitude'],\n",
    "        'longitude': user.get_coordinates()['longitude']\n",
    "    }\n",
    "user_list.append(user_info)"
   ]
  },
  {
   "cell_type": "code",
   "execution_count": 32,
   "id": "26672b72-8ecd-43f2-9d23-b5ccb0ff2d87",
   "metadata": {},
   "outputs": [
    {
     "data": {
      "text/plain": [
       "[{'email': 'elizabeth.white@example.com',\n",
       "  'first name': 'Elizabeth',\n",
       "  'last name': 'White',\n",
       "  'gender': 'female',\n",
       "  'latitude': '-29.1881',\n",
       "  'longitude': '-38.0097'}]"
      ]
     },
     "execution_count": 32,
     "metadata": {},
     "output_type": "execute_result"
    }
   ],
   "source": [
    "user_list"
   ]
  },
  {
   "cell_type": "code",
   "execution_count": 33,
   "id": "9a77ecb8-5a36-44d4-9538-3e43e07afcd7",
   "metadata": {},
   "outputs": [
    {
     "data": {
      "text/plain": [
       "<bound method NDFrame.head of                          email first name last name  gender  latitude  \\\n",
       "0  elizabeth.white@example.com  Elizabeth     White  female  -29.1881   \n",
       "\n",
       "  longitude  \n",
       "0  -38.0097  >"
      ]
     },
     "execution_count": 33,
     "metadata": {},
     "output_type": "execute_result"
    }
   ],
   "source": [
    "df1 = pd.DataFrame(user_list)\n",
    "df1.head"
   ]
  },
  {
   "cell_type": "code",
   "execution_count": null,
   "id": "85062862-49e7-4e4b-8bf7-5465d87aa267",
   "metadata": {},
   "outputs": [],
   "source": []
  },
  {
   "cell_type": "code",
   "execution_count": null,
   "id": "5dab43ba-dd31-4588-adee-79784aa977ec",
   "metadata": {},
   "outputs": [],
   "source": []
  }
 ],
 "metadata": {
  "kernelspec": {
   "display_name": "Python 3 (ipykernel)",
   "language": "python",
   "name": "python3"
  },
  "language_info": {
   "codemirror_mode": {
    "name": "ipython",
    "version": 3
   },
   "file_extension": ".py",
   "mimetype": "text/x-python",
   "name": "python",
   "nbconvert_exporter": "python",
   "pygments_lexer": "ipython3",
   "version": "3.10.14"
  }
 },
 "nbformat": 4,
 "nbformat_minor": 5
}
